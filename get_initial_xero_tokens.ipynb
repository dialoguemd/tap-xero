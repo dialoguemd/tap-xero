{
 "cells": [
  {
   "cell_type": "code",
   "execution_count": null,
   "metadata": {
    "colab": {},
    "colab_type": "code",
    "id": "DgcM85pn54qQ"
   },
   "outputs": [],
   "source": [
    "import boto3\n",
    "import json\n",
    "import requests\n",
    "import webbrowser\n",
    "import base64\n",
    "\n",
    "client_id = ''\n",
    "client_secret = ''\n",
    "region_name='us-east-1'\n",
    "\n",
    "redirect_url = 'https://www.dialogue.co'\n",
    "scope = 'offline_access accounting.transactions.read accounting.reports.read accounting.journals.read accounting.settings.read accounting.contacts.read accounting.attachments.read files.read assets.read projects.read'\n",
    "b64_id_secret = base64.b64encode(bytes(client_id + ':' + client_secret, 'utf-8')).decode('utf-8')\n",
    "\n",
    "SSM = boto3.client('ssm', region_name=region_name)\n",
    "\n",
    "def rotate_refresh_tokens(refresh_token):\n",
    "    # Write this refresh token to Amazon Key Management System\n",
    "    SSM.put_parameter(\n",
    "        Name='/airflow/tap_xero_refresh_token',\n",
    "        Overwrite=True,\n",
    "        Value=refresh_token,\n",
    "        Type='SecureString'\n",
    "    )\n",
    "    print(\"Rotating refresh token on AWS\")\n",
    "    return\n",
    "\n",
    "\n",
    "# Use this first Auth function to get an access token and refresh token for use by Tap Xero\n",
    "def XeroFirstAuth():\n",
    "    # 1. Send a user to authorize your app\n",
    "    auth_url = ('''https://login.xero.com/identity/connect/authorize?''' +\n",
    "                '''response_type=code''' +\n",
    "                '''&client_id=''' + client_id +\n",
    "                '''&redirect_uri=''' + redirect_url +\n",
    "                '''&scope=''' + scope +\n",
    "                '''&state=123''')\n",
    "    webbrowser.open_new(auth_url)\n",
    "    \n",
    "    # 2. Users are redirected back to you with a code\n",
    "    auth_res_url = input('What is the response URL? ')\n",
    "    start_number = auth_res_url.find('code=') + len('code=')\n",
    "    end_number = auth_res_url.find('&scope')\n",
    "    auth_code = auth_res_url[start_number:end_number]\n",
    "    print('auth code:')\n",
    "    print(auth_code)\n",
    "    print('\\n')\n",
    "    \n",
    "    # 3. Exchange the code\n",
    "    exchange_code_url = 'https://identity.xero.com/connect/token'\n",
    "    response = requests.post(exchange_code_url, \n",
    "                            headers = {\n",
    "                                'Authorization': 'Basic ' + b64_id_secret\n",
    "                            },\n",
    "                            data = {\n",
    "                                'grant_type': 'authorization_code',\n",
    "                                'code': auth_code,\n",
    "                                'redirect_uri': redirect_url\n",
    "                            })\n",
    "    json_response = response.json()\n",
    "    \n",
    "    # 4. Receive your tokens\n",
    "    access_token = json_response['access_token']\n",
    "    refresh_token = json_response['refresh_token']\n",
    "    \n",
    "    # 5. Write token to Amazon Key Management System \n",
    "    rotate_refresh_tokens(refresh_token)\n",
    "    \n",
    "    return [json_response['access_token'], json_response['refresh_token']]\n"
   ]
  },
  {
   "cell_type": "code",
   "execution_count": null,
   "metadata": {
    "colab": {},
    "colab_type": "code",
    "id": "uAmg71yN56Ky"
   },
   "outputs": [],
   "source": [
    "XeroFirstAuth()"
   ]
  },
  {
   "cell_type": "code",
   "execution_count": null,
   "metadata": {
    "colab": {},
    "colab_type": "code",
    "id": "j0EKdxEM6DYU"
   },
   "outputs": [],
   "source": [
    "# 6. Check the full set of tenants you've been authorized to access\n",
    "def XeroTenants(access_token):\n",
    "    connections_url = 'https://api.xero.com/connections'\n",
    "    response = requests.get(connections_url,\n",
    "                           headers = {\n",
    "                               'Authorization': 'Bearer ' + access_token,\n",
    "                               'Content-Type': 'application/json'\n",
    "                           })\n",
    "    json_response = response.json()\n",
    "    print(json_response)\n",
    "    \n",
    "    for tenants in json_response:\n",
    "        json_dict = tenants\n",
    "    return json_dict['tenantId']"
   ]
  },
  {
   "cell_type": "code",
   "execution_count": null,
   "metadata": {
    "colab": {},
    "colab_type": "code",
    "id": "77DM4lheGCOO"
   },
   "outputs": [],
   "source": [
    "# 7.1 Refreshing access tokens\n",
    "def XeroRefreshToken(refresh_token):\n",
    "    token_refresh_url = 'https://identity.xero.com/connect/token'\n",
    "    response = requests.post(token_refresh_url,\n",
    "                            headers = {\n",
    "                                'Authorization' : 'Basic ' + b64_id_secret,\n",
    "                                'Content-Type': 'application/x-www-form-urlencoded'\n",
    "                            },\n",
    "                            data = {\n",
    "                                'grant_type' : 'refresh_token',\n",
    "                                'refresh_token' : refresh_token\n",
    "                            })\n",
    "    json_response = response.json()\n",
    "    print(json_response)\n",
    "    \n",
    "    new_refresh_token = json_response['refresh_token']\n",
    "#     rt_file = open('C:/folder/refresh_token.txt', 'w')\n",
    "#     rt_file.write(new_refresh_token)\n",
    "#     rt_file.close()\n",
    "    \n",
    "    return [json_response['access_token'], json_response['refresh_token']]"
   ]
  },
  {
   "cell_type": "code",
   "execution_count": null,
   "metadata": {
    "colab": {},
    "colab_type": "code",
    "id": "08VRH5RaGDS0"
   },
   "outputs": [],
   "source": [
    "# 7.2 Call the API\n",
    "def XeroRequests():\n",
    "    old_refresh_token = open('C:/folder/refresh_token.txt', 'r').read()\n",
    "    new_tokens = XeroRefreshToken(old_refresh_token)\n",
    "    xero_tenant_id = XeroTenants(new_tokens[0])\n",
    "    \n",
    "    get_url = 'https://api.xero.com/api.xro/2.0/Invoices'\n",
    "    response = requests.get(get_url,\n",
    "                           headers = {\n",
    "                               'Authorization': 'Bearer ' + tokens[0],\n",
    "                               'Xero-tenant-id': xero_tenant_id,\n",
    "                               'Accept': 'application/json'\n",
    "                           })\n",
    "    json_response = response.json()\n",
    "    print(json_response)\n",
    "    \n",
    "    xero_output = open('C:/folder/xero_output.txt', 'w')\n",
    "    xero_output.write(response.text)\n",
    "    xero_output.close()"
   ]
  }
 ],
 "metadata": {
  "colab": {
   "collapsed_sections": [],
   "name": "Xero API Tutorial",
   "provenance": []
  },
  "kernelspec": {
   "display_name": "Python 3",
   "language": "python",
   "name": "python3"
  },
  "language_info": {
   "codemirror_mode": {
    "name": "ipython",
    "version": 3
   },
   "file_extension": ".py",
   "mimetype": "text/x-python",
   "name": "python",
   "nbconvert_exporter": "python",
   "pygments_lexer": "ipython3",
   "version": "3.7.4"
  }
 },
 "nbformat": 4,
 "nbformat_minor": 1
}
